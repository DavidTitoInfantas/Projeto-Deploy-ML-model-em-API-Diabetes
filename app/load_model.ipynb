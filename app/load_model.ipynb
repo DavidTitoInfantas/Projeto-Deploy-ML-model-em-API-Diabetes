{
 "cells": [
  {
   "cell_type": "markdown",
   "metadata": {},
   "source": [
    "### Teste do codio API REST"
   ]
  },
  {
   "cell_type": "code",
   "execution_count": null,
   "metadata": {},
   "outputs": [
    {
     "name": "stdout",
     "output_type": "stream",
     "text": [
      " * Serving Flask app '__main__'\n",
      " * Debug mode: off\n"
     ]
    },
    {
     "name": "stderr",
     "output_type": "stream",
     "text": [
      "\u001b[31m\u001b[1mWARNING: This is a development server. Do not use it in a production deployment. Use a production WSGI server instead.\u001b[0m\n",
      " * Running on all addresses (0.0.0.0)\n",
      " * Running on http://127.0.0.1:5000\n",
      " * Running on http://192.168.15.84:5000\n",
      "\u001b[33mPress CTRL+C to quit\u001b[0m\n",
      "127.0.0.1 - - [29/Sep/2023 22:38:14] \"GET / HTTP/1.1\" 200 -\n",
      "127.0.0.1 - - [29/Sep/2023 22:38:14] \"\u001b[33mGET /favicon.ico HTTP/1.1\u001b[0m\" 404 -\n",
      "192.168.15.84 - - [29/Sep/2023 22:38:29] \"GET / HTTP/1.1\" 200 -\n",
      "192.168.15.84 - - [29/Sep/2023 22:38:30] \"\u001b[33mGET /favicon.ico HTTP/1.1\u001b[0m\" 404 -\n",
      "192.168.15.84 - - [29/Sep/2023 22:38:39] \"GET / HTTP/1.1\" 200 -\n"
     ]
    }
   ],
   "source": [
    "import numpy as np\n",
    "from flask import Flask, request, jsonify\n",
    "import pickle\n",
    "import os\n",
    "\n",
    "\n",
    "app = Flask(__name__)\n",
    "\n",
    "modelo = pickle.load(open('pipeline_model_gbc_v1.pkl','rb'))\n",
    "\n",
    "# \"jsonfy\" é utilizado no lugar de pickle.dump(data, file)\n",
    "\n",
    "@app.route('/')\n",
    "def verifica_api_online():\n",
    "    return \"API ONLINE v1.0\", 200\n",
    "\n",
    "@app.route('/predict', methods=['POST'])\n",
    "def predict():\n",
    "    dados = request.get_json(force=True)\n",
    "    predicao = modelo.predict(np.array([list(dados.values())]))\n",
    "    resultado = predicao[0]\n",
    "\n",
    "    resposta = {'DIABETES', int(resultado)}\n",
    "    return jsonify(resposta)\n",
    "\n",
    "if __name__ == \"__main__\":\n",
    "    port = int(os.environ.get(\"PORT\",5000))\n",
    "    app.run(host='0.0.0.0',port=port) #debug=True"
   ]
  },
  {
   "cell_type": "code",
   "execution_count": null,
   "metadata": {},
   "outputs": [],
   "source": []
  }
 ],
 "metadata": {
  "kernelspec": {
   "display_name": "env_ml",
   "language": "python",
   "name": "python3"
  },
  "language_info": {
   "codemirror_mode": {
    "name": "ipython",
    "version": 3
   },
   "file_extension": ".py",
   "mimetype": "text/x-python",
   "name": "python",
   "nbconvert_exporter": "python",
   "pygments_lexer": "ipython3",
   "version": "3.10.9"
  },
  "orig_nbformat": 4
 },
 "nbformat": 4,
 "nbformat_minor": 2
}
